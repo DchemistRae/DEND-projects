{
 "cells": [
  {
   "cell_type": "markdown",
   "metadata": {
    "application/vnd.databricks.v1+cell": {
     "cellMetadata": {
      "byteLimit": 2048000,
      "rowLimit": 10000
     },
     "inputWidgets": {},
     "nuid": "28f3b548-3aa3-4185-9f17-618a4e7ad411",
     "showTitle": false,
     "title": ""
    }
   },
   "source": [
    "## Create dimension/fact tables"
   ]
  },
  {
   "cell_type": "code",
   "execution_count": 0,
   "metadata": {
    "application/vnd.databricks.v1+cell": {
     "cellMetadata": {
      "byteLimit": 2048000,
      "rowLimit": 10000
     },
     "inputWidgets": {},
     "nuid": "0ebfb228-6767-4d8f-91d4-d2ca27fcef55",
     "showTitle": false,
     "title": ""
    }
   },
   "outputs": [
    {
     "output_type": "display_data",
     "data": {
      "text/html": [
       "<style scoped>\n",
       "  .ansiout {\n",
       "    display: block;\n",
       "    unicode-bidi: embed;\n",
       "    white-space: pre-wrap;\n",
       "    word-wrap: break-word;\n",
       "    word-break: break-all;\n",
       "    font-family: \"Menlo\", \"Monaco\", \"Consolas\", \"Ubuntu Mono\", \"Source Code Pro\", monospace;\n",
       "    font-size: 13px;\n",
       "    color: #555;\n",
       "    margin-left: 4px;\n",
       "    line-height: 19px;\n",
       "  }\n",
       "</style>\n",
       "<div class=\"ansiout\"></div>"
      ]
     },
     "metadata": {
      "application/vnd.databricks.v1+output": {
       "addedWidgets": {},
       "arguments": {},
       "data": "<div class=\"ansiout\"></div>",
       "datasetInfos": [],
       "metadata": {},
       "removedWidgets": [],
       "type": "html"
      }
     },
     "output_type": "display_data"
    }
   ],
   "source": [
    "from pyspark.sql import SparkSession\n",
    "from pyspark.sql.functions import col, regexp_replace\n",
    "from pyspark.sql.functions import substring\n",
    "from pyspark.sql.functions import col, unix_timestamp, months_between, round\n",
    "from pyspark.sql.functions import year, quarter, month, weekofyear, dayofmonth"
   ]
  },
  {
   "cell_type": "code",
   "execution_count": 0,
   "metadata": {
    "application/vnd.databricks.v1+cell": {
     "cellMetadata": {
      "byteLimit": 2048000,
      "rowLimit": 10000
     },
     "inputWidgets": {},
     "nuid": "78ac235d-0a5c-4e31-ac99-020f0d02cb00",
     "showTitle": false,
     "title": ""
    }
   },
   "outputs": [
    {
     "output_type": "display_data",
     "data": {
      "text/html": [
       "<style scoped>\n",
       "  .ansiout {\n",
       "    display: block;\n",
       "    unicode-bidi: embed;\n",
       "    white-space: pre-wrap;\n",
       "    word-wrap: break-word;\n",
       "    word-break: break-all;\n",
       "    font-family: \"Menlo\", \"Monaco\", \"Consolas\", \"Ubuntu Mono\", \"Source Code Pro\", monospace;\n",
       "    font-size: 13px;\n",
       "    color: #555;\n",
       "    margin-left: 4px;\n",
       "    line-height: 19px;\n",
       "  }\n",
       "</style>\n",
       "<div class=\"ansiout\">+------------+--------------------+-----------------+------------------+\n",
       "  station_id|                name|         latitude|         longitude|\n",
       "+------------+--------------------+-----------------+------------------+\n",
       "         525|Glenwood Ave &amp; To...|        42.012701|-87.66605799999999|\n",
       "KA1503000012|  Clark St &amp; Lake St|41.88579466666667|-87.63110066666668|\n",
       "         637|Wood St &amp; Chicago...|        41.895634|        -87.672069|\n",
       "       13216|  State St &amp; 33rd St|       41.8347335|       -87.6258275|\n",
       "       18003|Fairbanks St &amp; Su...|41.89580766666667|-87.62025316666669|\n",
       "+------------+--------------------+-----------------+------------------+\n",
       "only showing top 5 rows\n",
       "\n",
       "</div>"
      ]
     },
     "metadata": {
      "application/vnd.databricks.v1+output": {
       "addedWidgets": {},
       "arguments": {},
       "data": "<div class=\"ansiout\">+------------+--------------------+-----------------+------------------+\n|  station_id|                name|         latitude|         longitude|\n+------------+--------------------+-----------------+------------------+\n|         525|Glenwood Ave &amp; To...|        42.012701|-87.66605799999999|\n|KA1503000012|  Clark St &amp; Lake St|41.88579466666667|-87.63110066666668|\n|         637|Wood St &amp; Chicago...|        41.895634|        -87.672069|\n|       13216|  State St &amp; 33rd St|       41.8347335|       -87.6258275|\n|       18003|Fairbanks St &amp; Su...|41.89580766666667|-87.62025316666669|\n+------------+--------------------+-----------------+------------------+\nonly showing top 5 rows\n\n</div>",
       "datasetInfos": [],
       "metadata": {},
       "removedWidgets": [],
       "type": "html"
      }
     },
     "output_type": "display_data"
    }
   ],
   "source": [
    "# read in stations data\n",
    "stations = spark.read.format(\"delta\") \\\n",
    "    .load(\"/delta/stations\")\n",
    "\n",
    "# Rename columns\n",
    "columns = ['station_id', 'name', 'latitude', 'longitude']\n",
    "dim_stations = stations.toDF(*columns) \n",
    "dim_stations.show(5) \n",
    "\n",
    "# Write dim_stations to table\n",
    "dim_stations.write.format(\"delta\") \\\n",
    "    .mode(\"overwrite\") \\\n",
    "    .saveAsTable(\"dim_stations\")"
   ]
  },
  {
   "cell_type": "code",
   "execution_count": 0,
   "metadata": {
    "application/vnd.databricks.v1+cell": {
     "cellMetadata": {
      "byteLimit": 2048000,
      "rowLimit": 10000
     },
     "inputWidgets": {},
     "nuid": "9af12aa2-b974-4e38-9d44-236f38376364",
     "showTitle": false,
     "title": ""
    }
   },
   "outputs": [
    {
     "output_type": "display_data",
     "data": {
      "text/html": [
       "<style scoped>\n",
       "  .ansiout {\n",
       "    display: block;\n",
       "    unicode-bidi: embed;\n",
       "    white-space: pre-wrap;\n",
       "    word-wrap: break-word;\n",
       "    word-break: break-all;\n",
       "    font-family: \"Menlo\", \"Monaco\", \"Consolas\", \"Ubuntu Mono\", \"Source Code Pro\", monospace;\n",
       "    font-size: 13px;\n",
       "    color: #555;\n",
       "    margin-left: 4px;\n",
       "    line-height: 19px;\n",
       "  }\n",
       "</style>\n",
       "<div class=\"ansiout\">+--------+----------+---------+--------------------+-------------------+-------------------+-------------------+---------+\n",
       "rider_id|first_name|last_name|             address|           birthday| account_start_date|   account_end_date|is_member|\n",
       "+--------+----------+---------+--------------------+-------------------+-------------------+-------------------+---------+\n",
       "    1000|     Diana|    Clark| 1200 Alyssa Squares|1989-02-13 00:00:00|2019-04-23 00:00:00|               null|     true|\n",
       "    1001|  Jennifer|    Smith|     397 Diana Ferry|1976-08-10 00:00:00|2019-11-01 00:00:00|2020-09-01 00:00:00|     true|\n",
       "    1002|     Karen|    Smith|644 Brittany Row ...|1998-08-10 00:00:00|2022-02-04 00:00:00|               null|     true|\n",
       "    1003|     Bryan|  Roberts|996 Dickerson Tur...|1999-03-29 00:00:00|2019-08-26 00:00:00|               null|    false|\n",
       "    1004|     Jesse|Middleton|7009 Nathan Expre...|1969-04-11 00:00:00|2019-09-14 00:00:00|               null|     true|\n",
       "+--------+----------+---------+--------------------+-------------------+-------------------+-------------------+---------+\n",
       "only showing top 5 rows\n",
       "\n",
       "</div>"
      ]
     },
     "metadata": {
      "application/vnd.databricks.v1+output": {
       "addedWidgets": {},
       "arguments": {},
       "data": "<div class=\"ansiout\">+--------+----------+---------+--------------------+-------------------+-------------------+-------------------+---------+\n|rider_id|first_name|last_name|             address|           birthday| account_start_date|   account_end_date|is_member|\n+--------+----------+---------+--------------------+-------------------+-------------------+-------------------+---------+\n|    1000|     Diana|    Clark| 1200 Alyssa Squares|1989-02-13 00:00:00|2019-04-23 00:00:00|               null|     true|\n|    1001|  Jennifer|    Smith|     397 Diana Ferry|1976-08-10 00:00:00|2019-11-01 00:00:00|2020-09-01 00:00:00|     true|\n|    1002|     Karen|    Smith|644 Brittany Row ...|1998-08-10 00:00:00|2022-02-04 00:00:00|               null|     true|\n|    1003|     Bryan|  Roberts|996 Dickerson Tur...|1999-03-29 00:00:00|2019-08-26 00:00:00|               null|    false|\n|    1004|     Jesse|Middleton|7009 Nathan Expre...|1969-04-11 00:00:00|2019-09-14 00:00:00|               null|     true|\n+--------+----------+---------+--------------------+-------------------+-------------------+-------------------+---------+\nonly showing top 5 rows\n\n</div>",
       "datasetInfos": [],
       "metadata": {},
       "removedWidgets": [],
       "type": "html"
      }
     },
     "output_type": "display_data"
    }
   ],
   "source": [
    "# read in riders data\n",
    "riders = spark.read.format(\"delta\") \\\n",
    "    .load(\"/delta/riders\")\n",
    "\n",
    "# Rename columns\n",
    "columns = ['rider_id', 'first_name', 'last_name', 'address', 'birthday', 'account_start_date', 'account_end_date', 'is_member']\n",
    "dim_riders = riders.toDF(*columns) \n",
    "dim_riders.show(5) \n",
    "\n",
    "# Write dim_riders to table\n",
    "dim_riders.write.format(\"delta\") \\\n",
    "    .mode(\"overwrite\") \\\n",
    "    .saveAsTable(\"dim_riders\")"
   ]
  },
  {
   "cell_type": "code",
   "execution_count": 0,
   "metadata": {
    "application/vnd.databricks.v1+cell": {
     "cellMetadata": {
      "byteLimit": 2048000,
      "rowLimit": 10000
     },
     "inputWidgets": {},
     "nuid": "13cb0ead-8807-42e2-9143-568ad34c9d23",
     "showTitle": false,
     "title": ""
    }
   },
   "outputs": [
    {
     "output_type": "display_data",
     "data": {
      "text/html": [
       "<style scoped>\n",
       "  .ansiout {\n",
       "    display: block;\n",
       "    unicode-bidi: embed;\n",
       "    white-space: pre-wrap;\n",
       "    word-wrap: break-word;\n",
       "    word-break: break-all;\n",
       "    font-family: \"Menlo\", \"Monaco\", \"Consolas\", \"Ubuntu Mono\", \"Source Code Pro\", monospace;\n",
       "    font-size: 13px;\n",
       "    color: #555;\n",
       "    margin-left: 4px;\n",
       "    line-height: 19px;\n",
       "  }\n",
       "</style>\n",
       "<div class=\"ansiout\">+----------+------+--------+--------+\n",
       "payment_id|amount|rider_id| date_id|\n",
       "+----------+------+--------+--------+\n",
       "         1|   9.0|    1000|20190501|\n",
       "         2|   9.0|    1000|20190601|\n",
       "         3|   9.0|    1000|20190701|\n",
       "         4|   9.0|    1000|20190801|\n",
       "         5|   9.0|    1000|20190901|\n",
       "+----------+------+--------+--------+\n",
       "only showing top 5 rows\n",
       "\n",
       "</div>"
      ]
     },
     "metadata": {
      "application/vnd.databricks.v1+output": {
       "addedWidgets": {},
       "arguments": {},
       "data": "<div class=\"ansiout\">+----------+------+--------+--------+\n|payment_id|amount|rider_id| date_id|\n+----------+------+--------+--------+\n|         1|   9.0|    1000|20190501|\n|         2|   9.0|    1000|20190601|\n|         3|   9.0|    1000|20190701|\n|         4|   9.0|    1000|20190801|\n|         5|   9.0|    1000|20190901|\n+----------+------+--------+--------+\nonly showing top 5 rows\n\n</div>",
       "datasetInfos": [],
       "metadata": {},
       "removedWidgets": [],
       "type": "html"
      }
     },
     "output_type": "display_data"
    }
   ],
   "source": [
    "# read in payment data\n",
    "payments = spark.read.format(\"delta\") \\\n",
    "    .load(\"/delta/payments\")\n",
    "\n",
    "# Rename columns\n",
    "columns = ['payment_id', 'date', 'amount', 'rider_id']\n",
    "payments = payments.toDF(*columns) \n",
    "\n",
    "# Convert the \"date\" column to integer type\n",
    "fact_payments = payments.withColumn(\"date\", payments[\"date\"].cast(\"string\"))  # Ensure it's a string\n",
    "fact_payments = fact_payments.withColumn(\"date\", regexp_replace(fact_payments[\"date\"], \"-\", \"\"))  # Remove '-'\n",
    "fact_payments = fact_payments.withColumn(\"date\", substring(fact_payments[\"date\"],1,8).cast(\"long\")) \n",
    "\n",
    "# rename date to date_id\n",
    "fact_payments = fact_payments.withColumnRenamed(\"date\", \"date_id\")\n",
    "fact_payments = fact_payments.select(\"payment_id\",\"amount\",\"rider_id\",\"date_id\")  # rearrange columns\n",
    "\n",
    "# Show table\n",
    "fact_payments.show(5)\n",
    "\n",
    "# Write fact_payment to table\n",
    "fact_payments.write.format(\"delta\") \\\n",
    "    .mode(\"overwrite\") \\\n",
    "    .saveAsTable(\"fact_payment\")"
   ]
  },
  {
   "cell_type": "code",
   "execution_count": 0,
   "metadata": {
    "application/vnd.databricks.v1+cell": {
     "cellMetadata": {
      "byteLimit": 2048000,
      "rowLimit": 10000
     },
     "inputWidgets": {},
     "nuid": "73487f69-f6fd-498c-8394-0c00fd3e808f",
     "showTitle": false,
     "title": ""
    }
   },
   "outputs": [
    {
     "output_type": "display_data",
     "data": {
      "text/html": [
       "<style scoped>\n",
       "  .ansiout {\n",
       "    display: block;\n",
       "    unicode-bidi: embed;\n",
       "    white-space: pre-wrap;\n",
       "    word-wrap: break-word;\n",
       "    word-break: break-all;\n",
       "    font-family: \"Menlo\", \"Monaco\", \"Consolas\", \"Ubuntu Mono\", \"Source Code Pro\", monospace;\n",
       "    font-size: 13px;\n",
       "    color: #555;\n",
       "    margin-left: 4px;\n",
       "    line-height: 19px;\n",
       "  }\n",
       "</style>\n",
       "<div class=\"ansiout\">+----------------+-------------+-------------------+-------------------+--------+----+----------------+--------------+--------+--------+\n",
       "         trip_id|rideable_type|           start_at|             end_at|duration| age|start_station_id|end_station_id|rider_id| date_id|\n",
       "+----------------+-------------+-------------------+-------------------+--------+----+----------------+--------------+--------+--------+\n",
       "89E7AA6C29227EFF| classic_bike|2021-02-12 16:14:56|2021-02-12 16:21:43|   6.783|37.0|             525|           660|   71934|20210212|\n",
       "0FEFDE2603568365| classic_bike|2021-02-14 17:52:38|2021-02-14 18:12:09|  19.517|38.0|             525|         16806|   47854|20210214|\n",
       "E6159D746B2DBB91|electric_bike|2021-02-09 19:10:18|2021-02-09 19:19:10|   8.867|33.0|    KA1503000012|  TA1305000029|   70870|20210209|\n",
       "B32D3199F1C2E75B| classic_bike|2021-02-02 17:49:41|2021-02-02 17:54:06|   4.417|19.0|             637|  TA1305000034|   58974|20210202|\n",
       "83E463F23575F4BF|electric_bike|2021-02-23 15:07:23|2021-02-23 15:22:37|  15.233|72.0|           13216|  TA1309000055|   39608|20210223|\n",
       "+----------------+-------------+-------------------+-------------------+--------+----+----------------+--------------+--------+--------+\n",
       "only showing top 5 rows\n",
       "\n",
       "</div>"
      ]
     },
     "metadata": {
      "application/vnd.databricks.v1+output": {
       "addedWidgets": {},
       "arguments": {},
       "data": "<div class=\"ansiout\">+----------------+-------------+-------------------+-------------------+--------+----+----------------+--------------+--------+--------+\n|         trip_id|rideable_type|           start_at|             end_at|duration| age|start_station_id|end_station_id|rider_id| date_id|\n+----------------+-------------+-------------------+-------------------+--------+----+----------------+--------------+--------+--------+\n|89E7AA6C29227EFF| classic_bike|2021-02-12 16:14:56|2021-02-12 16:21:43|   6.783|37.0|             525|           660|   71934|20210212|\n|0FEFDE2603568365| classic_bike|2021-02-14 17:52:38|2021-02-14 18:12:09|  19.517|38.0|             525|         16806|   47854|20210214|\n|E6159D746B2DBB91|electric_bike|2021-02-09 19:10:18|2021-02-09 19:19:10|   8.867|33.0|    KA1503000012|  TA1305000029|   70870|20210209|\n|B32D3199F1C2E75B| classic_bike|2021-02-02 17:49:41|2021-02-02 17:54:06|   4.417|19.0|             637|  TA1305000034|   58974|20210202|\n|83E463F23575F4BF|electric_bike|2021-02-23 15:07:23|2021-02-23 15:22:37|  15.233|72.0|           13216|  TA1309000055|   39608|20210223|\n+----------------+-------------+-------------------+-------------------+--------+----+----------------+--------------+--------+--------+\nonly showing top 5 rows\n\n</div>",
       "datasetInfos": [],
       "metadata": {},
       "removedWidgets": [],
       "type": "html"
      }
     },
     "output_type": "display_data"
    }
   ],
   "source": [
    "# read in trips data\n",
    "trips = spark.read.format(\"delta\") \\\n",
    "    .load(\"/delta/trips\")\n",
    "\n",
    "# Rename columns\n",
    "columns = ['trip_id', 'rideable_type', 'start_at', 'end_at', 'start_station_id', 'end_station_id', 'rider_id']\n",
    "trips = trips.toDF(*columns) \n",
    "\n",
    "# create age column\n",
    "trips = trips.join(dim_riders[[\"rider_id\", \"birthday\"]], on = \"rider_id\", how = \"left\")\n",
    "trips = trips.withColumn(\"age\", (months_between(trips[\"start_at\"], trips[\"birthday\"]) / 12))\n",
    "trips = trips.withColumn(\"age\", round(trips[\"age\"], 0))\n",
    "\n",
    "# Create duration in minutess column\n",
    "trips = trips.withColumn(\"duration\", (unix_timestamp(\"end_at\") - unix_timestamp(\"start_at\"))/60)\n",
    "trips = trips.withColumn(\"duration\", round(trips[\"duration\"], 3))\n",
    "\n",
    "# Create date_id column\n",
    "trips = trips.withColumn(\"date_id\", trips[\"start_at\"].cast(\"string\"))  # Ensure it's a string\n",
    "trips = trips.withColumn(\"date_id\", regexp_replace(trips[\"date_id\"], \"-\", \"\"))  # Remove '-'\n",
    "trips = trips.withColumn(\"date_id\", substring(trips[\"date_id\"],1,8).cast(\"long\"))\n",
    "\n",
    "# Rearrange columns\n",
    "fact_trips = trips.select(\"trip_id\",\"rideable_type\",\"start_at\",\"end_at\", \"duration\", \"age\", \"start_station_id\", \"end_station_id\", \"rider_id\", \"date_id\")  \n",
    "fact_trips.show(5)\n",
    "\n",
    "# Write fact_trips to table\n",
    "fact_trips.write.format(\"delta\") \\\n",
    "    .mode(\"overwrite\") \\\n",
    "    .saveAsTable(\"fact_trips\")"
   ]
  },
  {
   "cell_type": "code",
   "execution_count": 0,
   "metadata": {
    "application/vnd.databricks.v1+cell": {
     "cellMetadata": {
      "byteLimit": 2048000,
      "rowLimit": 10000
     },
     "inputWidgets": {},
     "nuid": "36d540ce-1826-4c3b-b54e-da43105a6fd6",
     "showTitle": false,
     "title": ""
    }
   },
   "outputs": [
    {
     "output_type": "display_data",
     "data": {
      "text/html": [
       "<style scoped>\n",
       "  .ansiout {\n",
       "    display: block;\n",
       "    unicode-bidi: embed;\n",
       "    white-space: pre-wrap;\n",
       "    word-wrap: break-word;\n",
       "    word-break: break-all;\n",
       "    font-family: \"Menlo\", \"Monaco\", \"Consolas\", \"Ubuntu Mono\", \"Source Code Pro\", monospace;\n",
       "    font-size: 13px;\n",
       "    color: #555;\n",
       "    margin-left: 4px;\n",
       "    line-height: 19px;\n",
       "  }\n",
       "</style>\n",
       "<div class=\"ansiout\">+--------+----------+----+-------+-----+----+---+\n",
       " date_id|      date|year|quarter|month|week|day|\n",
       "+--------+----------+----+-------+-----+----+---+\n",
       "20210622|2021-06-22|2021|      2|    6|  25| 22|\n",
       "20210604|2021-06-04|2021|      2|    6|  22|  4|\n",
       "20210627|2021-06-27|2021|      2|    6|  25| 27|\n",
       "20210620|2021-06-20|2021|      2|    6|  24| 20|\n",
       "20210628|2021-06-28|2021|      2|    6|  26| 28|\n",
       "+--------+----------+----+-------+-----+----+---+\n",
       "only showing top 5 rows\n",
       "\n",
       "</div>"
      ]
     },
     "metadata": {
      "application/vnd.databricks.v1+output": {
       "addedWidgets": {},
       "arguments": {},
       "data": "<div class=\"ansiout\">+--------+----------+----+-------+-----+----+---+\n| date_id|      date|year|quarter|month|week|day|\n+--------+----------+----+-------+-----+----+---+\n|20210622|2021-06-22|2021|      2|    6|  25| 22|\n|20210604|2021-06-04|2021|      2|    6|  22|  4|\n|20210627|2021-06-27|2021|      2|    6|  25| 27|\n|20210620|2021-06-20|2021|      2|    6|  24| 20|\n|20210628|2021-06-28|2021|      2|    6|  26| 28|\n+--------+----------+----+-------+-----+----+---+\nonly showing top 5 rows\n\n</div>",
       "datasetInfos": [],
       "metadata": {},
       "removedWidgets": [],
       "type": "html"
      }
     },
     "output_type": "display_data"
    }
   ],
   "source": [
    "# Create date dimension\n",
    "date_df = fact_trips.select('start_at').union(payments.select('date'))\n",
    "date_df = date_df.withColumn(\"start_at\", col(\"start_at\").cast(\"date\"))\n",
    "date_df = date_df.dropDuplicates([\"start_at\"])\n",
    "date_df = date_df.withColumnRenamed(\"start_at\", \"date\")\n",
    "\n",
    "# Extract year, quarter, month, week, and day of the month into separate columns\n",
    "date_df = date_df.withColumn(\"year\", year(date_df[\"date\"]))\n",
    "date_df = date_df.withColumn(\"quarter\", quarter(date_df[\"date\"]))\n",
    "date_df = date_df.withColumn(\"month\", month(date_df[\"date\"]))\n",
    "date_df = date_df.withColumn(\"week\", weekofyear(date_df[\"date\"]))\n",
    "date_df = date_df.withColumn(\"day\", dayofmonth(date_df[\"date\"]))\n",
    "\n",
    "# Create date_id column\n",
    "date_df = date_df.withColumn(\"date_id\", date_df[\"date\"].cast(\"string\"))  # Ensure it's a string\n",
    "date_df = date_df.withColumn(\"date_id\", regexp_replace(date_df[\"date_id\"], \"-\", \"\"))  # Remove '-'\n",
    "date_df = date_df.withColumn(\"date_id\", substring(date_df[\"date_id\"],1,8).cast(\"long\"))\n",
    "\n",
    "# Rearrange columns\n",
    "dim_date = date_df.select(\"date_id\",\"date\",\"year\",\"quarter\", \"month\", \"week\", \"day\")  \n",
    "dim_date.show(5)\n",
    "\n",
    "# Write fact_trips to table\n",
    "dim_date.write.format(\"delta\") \\\n",
    "    .mode(\"overwrite\") \\\n",
    "    .saveAsTable(\"dim_date\")"
   ]
  }
 ],
 "metadata": {
  "application/vnd.databricks.v1+notebook": {
   "dashboards": [],
   "language": "python",
   "notebookMetadata": {
    "pythonIndentUnit": 4
   },
   "notebookName": "transform-step_notebook(7)",
   "widgets": {}
  },
  "language_info": {
   "name": "python"
  }
 },
 "nbformat": 4,
 "nbformat_minor": 0
}
